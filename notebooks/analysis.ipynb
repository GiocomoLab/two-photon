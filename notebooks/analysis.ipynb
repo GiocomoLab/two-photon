{
 "cells": [
  {
   "cell_type": "raw",
   "metadata": {},
   "source": [
    "## Directory:\n",
    "# slmStimPipeline/{session_name}/{recording_name}\n",
    "\n",
    "## Microscope Data:\n",
    "# {recording_name2}_CycleXXXXX_ChY_ZZZZZZ.ome.tif\n",
    "#   XXXXX = 000001-04465\n",
    "#   Y = 2-3\n",
    "#   Z = 000001-000004\n",
    "# total: 35,720\n",
    "\n",
    "## Voltage Data:\n",
    "# {recording_name2}_Cycle00001_VoltageOutput_001.xml\n",
    "# {recording_name2}_Cycle00001_VoltageRecording_001.csv\n",
    "# {recording_name2}_Cycle00001_VoltageRecording_001.xml\n",
    "\n",
    "## Metadata:\n",
    "# {recording_name2}.env\n",
    "# {recording_name2}.xml\n",
    "\n",
    "## Corrected data (only 17860 - Ch3):\n",
    "# {recording_name2}_CycleCOR\n",
    "\n",
    "## Suite2p output\n",
    "# suite2p/\n",
    "\n",
    "## Unknown\n",
    "# References/"
   ]
  },
  {
   "cell_type": "code",
   "execution_count": null,
   "metadata": {},
   "outputs": [],
   "source": [
    "%matplotlib inline\n",
    "\n",
    "import csv\n",
    "import itertools\n",
    "import os\n",
    "import pprint\n",
    "from xml.etree import ElementTree\n",
    "\n",
    "import h5py\n",
    "import numpy as np\n",
    "import pandas as pd\n",
    "import skimage.io\n",
    "\n",
    "import matplotlib.pyplot as plt"
   ]
  },
  {
   "cell_type": "code",
   "execution_count": null,
   "metadata": {},
   "outputs": [],
   "source": [
    "base_dir = '/media/ssd/slmStimPipeline'\n",
    "\n",
    "recording = 0\n",
    "\n",
    "if recording == 0:\n",
    "    session_name = '20200124M74'\n",
    "    recording_name = 'stimL23-000'\n",
    "    recording_name2 = 'stim3dL23withBeam-001'\n",
    "elif recording == 1:\n",
    "    session_name = '20200201M79'\n",
    "    recording_name = 'VRmm-000'\n",
    "    recording_name2 = recording_name\n",
    "elif recording == 2:\n",
    "    session_name = '20200202M79'\n",
    "    recording_name = 'stimL23-000'\n",
    "    recording_name2 = 'stimL23-001'\n",
    "else:\n",
    "    raise ValueError('Bad recording %s' % recording)\n",
    "\n",
    "base = os.path.join(base_dir, session_name, recording_name, recording_name2)\n",
    "print(base)"
   ]
  },
  {
   "cell_type": "code",
   "execution_count": null,
   "metadata": {},
   "outputs": [],
   "source": [
    "def metadata(base):\n",
    "    mdata_root = ElementTree.fromstring(open(base + '.xml').read())\n",
    "\n",
    "    def state_value(key, type_fn=str):\n",
    "        element = mdata_root.find(f'.//PVStateValue[@key=\"{key}\"]')\n",
    "        value = element.attrib['value']\n",
    "        return type_fn(value) \n",
    "\n",
    "    def indexed_value(key, index, type_fn=None):\n",
    "        element = mdata_root.find(f'.//PVStateValue[@key=\"{key}\"]/IndexedValue[@index=\"{index}\"]')\n",
    "        value = element.attrib['value']\n",
    "        return type_fn(value)\n",
    "\n",
    "    num_frames = len(mdata_root.findall('Sequence'))\n",
    "    num_channels = len(mdata_root.find('Sequence/Frame').findall('File'))\n",
    "    num_z_planes = len(mdata_root.find('Sequence').findall('Frame'))\n",
    "    num_y_px = state_value('linesPerFrame', int)\n",
    "    num_x_px = state_value('pixelsPerLine', int)\n",
    "\n",
    "    laser_power = indexed_value('laserPower', 0, float)\n",
    "    laser_wavelength = indexed_value('laserWavelength', 0, int)\n",
    "    \n",
    "    frame_period = state_value('framePeriod', float)\n",
    "    optical_zoom = state_value('opticalZoom', float)\n",
    "\n",
    "    fname_voltage_xml = base + '_Cycle00001_VoltageRecording_001.xml'\n",
    "    voltage_root = ElementTree.fromstring(open(fname_voltage_xml).read()) \n",
    "\n",
    "    channels = {}\n",
    "    for signal in voltage_root.findall('Experiment/SignalList/VRecSignal'):\n",
    "        channel = int(signal.find('Channel').text)\n",
    "        name = signal.find('Name').text\n",
    "        channels[name] = channel\n",
    "\n",
    "    return {\n",
    "        'size': {'frames': num_frames, \n",
    "                 'channels': num_channels, \n",
    "                 'z_planes': num_z_planes,\n",
    "                 'y_px': num_y_px,\n",
    "                 'x_px': num_x_px},\n",
    "        'laser': {'power': laser_power, 'wavelength': laser_wavelength},\n",
    "        'period': frame_period,\n",
    "        'optical_zoom': optical_zoom,\n",
    "        'channels': channels,\n",
    "    }\n",
    "\n",
    "md_dct = metadata(base)\n",
    "pprint.pprint(md_dct)"
   ]
  },
  {
   "cell_type": "code",
   "execution_count": null,
   "metadata": {},
   "outputs": [],
   "source": [
    "fname_voltage_csv = base + '_Cycle00001_VoltageRecording_001.csv'\n",
    "df = pd.read_csv(fname_voltage_csv, index_col='Time(ms)', skipinitialspace=True)"
   ]
  },
  {
   "cell_type": "code",
   "execution_count": null,
   "metadata": {},
   "outputs": [],
   "source": [
    "size = md_dct['size']\n",
    "shape = (size['frames'], size['z_planes'])\n",
    "y_px = size['y_px']\n",
    "\n",
    "buffer = 5\n",
    "shift = 3\n",
    "chn = 3  # Get this empirically\n",
    "\n",
    "frame = df['frame starts']\n",
    "frame_start = frame[frame.diff() > 2.5].index\n",
    "\n",
    "stim = df['FieldStimulator']\n",
    "stim_start = stim[stim.diff() > 2.5].index\n",
    "stim_stop = stim[stim.diff() < -2.5].index"
   ]
  },
  {
   "cell_type": "code",
   "execution_count": null,
   "metadata": {},
   "outputs": [],
   "source": [
    "def get_loc(times):\n",
    "    interp = np.interp(times, frame_start, range(len(frame_start)))\n",
    "    indices = interp.astype(np.int)\n",
    "    y_offset = y_px * (interp - indices)\n",
    "    return np.transpose(np.unravel_index(indices, shape)), y_offset\n",
    "\n",
    "ix_start, y_off_start = get_loc(stim_start)\n",
    "ix_stop, y_off_stop = get_loc(stim_stop)"
   ]
  },
  {
   "cell_type": "code",
   "execution_count": null,
   "metadata": {},
   "outputs": [],
   "source": [
    "index = 0\n",
    "frame = []\n",
    "z_plane = []\n",
    "y_px_start = []\n",
    "y_px_stop = []\n",
    "for (ix_start_cyc, ix_start_z), (ix_stop_cyc, ix_stop_z), y_min, y_max in zip(ix_start, ix_stop, y_off_start, y_off_stop):\n",
    "    if (ix_start_cyc == ix_stop_cyc) and (ix_start_z == ix_stop_z):\n",
    "        frame.append(ix_start_cyc)\n",
    "        z_plane.append(ix_start_z)\n",
    "        y_px_start.append(y_min)\n",
    "        y_px_stop.append(y_max)\n",
    "    else:\n",
    "        frame.append(ix_start_cyc)\n",
    "        z_plane.append(ix_start_z)\n",
    "        y_px_start.append(y_min)        \n",
    "        y_px_stop.append(y_px)\n",
    "        \n",
    "        frame.append(ix_stop_cyc)\n",
    "        z_plane.append(ix_stop_z)\n",
    "        y_px_start.append(0)\n",
    "        y_px_stop.append(y_max)\n",
    "        \n",
    "df = pd.DataFrame({'frame': frame, \n",
    "                   'z_plane': z_plane, \n",
    "                   'y_min': y_px_start, \n",
    "                   'y_max': y_px_stop})\n",
    "df.to_hdf('/media/ssd/data/slm_test/artefact.h5', 'data')"
   ]
  },
  {
   "cell_type": "code",
   "execution_count": null,
   "metadata": {},
   "outputs": [],
   "source": [
    "%%time\n",
    "\n",
    "def read(frame, chn, z):\n",
    "    fname = base + f'_Cycle{frame+1:05d}_Ch{chn}_{z+1:06d}.ome.tif'\n",
    "    return skimage.io.imread(fname)\n",
    "\n",
    "shape = (size['frames'], size['z_planes'], size['y_px'], size['x_px'])\n",
    "dtype = read(0, chn, 0).dtype\n",
    "print((shape, dtype))\n",
    "data = np.zeros(shape, dtype)\n",
    "\n",
    "for frame in range(size['frames']):\n",
    "    for z_plane in range(size['z_planes']):\n",
    "        data[frame, z_plane] = read(frame, chn, z_plane)       "
   ]
  },
  {
   "cell_type": "code",
   "execution_count": null,
   "metadata": {},
   "outputs": [],
   "source": [
    "os.makedirs('/media/ssd/data/slm_test', exist_ok=True)"
   ]
  },
  {
   "cell_type": "code",
   "execution_count": null,
   "metadata": {},
   "outputs": [],
   "source": [
    "%%time\n",
    "with h5py.File('/media/ssd/data/slm_test/orig.h5', 'w') as f_orig:\n",
    "    f_orig.create_dataset('data', data=data)"
   ]
  },
  {
   "cell_type": "code",
   "execution_count": null,
   "metadata": {},
   "outputs": [],
   "source": [
    "for row in df.itertuples():\n",
    "    y_slice = slice(int(row.y_min) + shift,\n",
    "                    int(row.y_max) + shift + buffer + 1)\n",
    "    before = data[row.frame - 1, row.z_plane, y_slice]\n",
    "    after = data[row.frame + 1, row.z_plane, y_slice]\n",
    "    data[row.frame, row.z_plane, y_slice] = (before + after) / 2"
   ]
  },
  {
   "cell_type": "code",
   "execution_count": null,
   "metadata": {},
   "outputs": [],
   "source": [
    "%%time\n",
    "with h5py.File('/media/ssd/data/slm_test/corrected.h5', 'w') as f_corr:\n",
    "    f_corr.create_dataset('data', data=data)"
   ]
  },
  {
   "cell_type": "code",
   "execution_count": null,
   "metadata": {},
   "outputs": [],
   "source": [
    "data_orig = h5py.File('/media/ssd/data/slm_test/orig.h5' , 'r')['data']"
   ]
  },
  {
   "cell_type": "code",
   "execution_count": null,
   "metadata": {},
   "outputs": [],
   "source": [
    "_, axes = plt.subplots(ncols=2, figsize=(10,5))\n",
    "axes[1].imshow(data[114,2], vmin=0, vmax=500);\n",
    "axes[0].imshow(data_orig[114,2], vmin=0, vmax=500);"
   ]
  },
  {
   "cell_type": "code",
   "execution_count": null,
   "metadata": {},
   "outputs": [],
   "source": []
  }
 ],
 "metadata": {
  "kernelspec": {
   "display_name": "Python 3",
   "language": "python",
   "name": "python3"
  },
  "language_info": {
   "codemirror_mode": {
    "name": "ipython",
    "version": 3
   },
   "file_extension": ".py",
   "mimetype": "text/x-python",
   "name": "python",
   "nbconvert_exporter": "python",
   "pygments_lexer": "ipython3",
   "version": "3.7.6"
  }
 },
 "nbformat": 4,
 "nbformat_minor": 4
}
